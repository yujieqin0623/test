{
 "cells": [
  {
   "cell_type": "raw",
   "metadata": {},
   "source": [
    "1. 写出判断一个数是否能同时被3和7整除的条件语句,并且打印对应的结果"
   ]
  },
  {
   "cell_type": "code",
   "execution_count": 5,
   "metadata": {},
   "outputs": [
    {
     "name": "stdout",
     "output_type": "stream",
     "text": [
      "请输入数字:20\n",
      "20不能同时被3和7整除!\n"
     ]
    }
   ],
   "source": [
    "x = int(input('请输入数字:'))\n",
    "if x % 3 == 0 and x % 7 == 0:\n",
    "    print(str(x) + '能同时被3和7整除!')\n",
    "else:\n",
    "    print(str(x) + '不能同时被3和7整除!')"
   ]
  },
  {
   "cell_type": "markdown",
   "metadata": {},
   "source": [
    "2. 写出判断一个数是否能同被3或7整除,但是不能同时被3和7整除的条件语句,并且打印对应的结果"
   ]
  },
  {
   "cell_type": "code",
   "execution_count": 9,
   "metadata": {},
   "outputs": [
    {
     "name": "stdout",
     "output_type": "stream",
     "text": [
      "请输入数字:21\n",
      "21能同时被3和7整除!\n"
     ]
    }
   ],
   "source": [
    "x = int(input('请输入数字:'))\n",
    "if (x % 3 == 0 and x % 7 != 0) or (x % 3 != 0 and x % 7 == 0):\n",
    "    print(str(x) + '能够被3或7整除,但是不能同时被3和7整除!')\n",
    "else:\n",
    "    print(str(x) + '能同时被3和7整除!')"
   ]
  },
  {
   "cell_type": "raw",
   "metadata": {},
   "source": [
    "3.写出一个条件判断,将得分进行分级,规则为:\n",
    "    60分以下的为E,\n",
    "    60-69分为D,\n",
    "    70-79为C,\n",
    "    80-89为B,\n",
    "    90分及以上为A"
   ]
  },
  {
   "cell_type": "code",
   "execution_count": 11,
   "metadata": {},
   "outputs": [
    {
     "name": "stdout",
     "output_type": "stream",
     "text": [
      "请输入得分:78\n",
      "78 分对应的等级为: C\n"
     ]
    }
   ],
   "source": [
    "score = int(input('请输入得分:'))\n",
    "if score >= 90:\n",
    "    grade = 'A'\n",
    "elif score >= 80:\n",
    "    grade = 'B'\n",
    "elif score >= 70:\n",
    "    grade = 'C'\n",
    "elif score >= 60:\n",
    "    grade = 'C'\n",
    "else:\n",
    "    grade = 'D'\n",
    "print(str(score) + ' 分对应的等级为: ' + grade)"
   ]
  }
 ],
 "metadata": {
  "kernelspec": {
   "display_name": "Python 3",
   "language": "python",
   "name": "python3"
  },
  "language_info": {
   "codemirror_mode": {
    "name": "ipython",
    "version": 3
   },
   "file_extension": ".py",
   "mimetype": "text/x-python",
   "name": "python",
   "nbconvert_exporter": "python",
   "pygments_lexer": "ipython3",
   "version": "3.7.3"
  },
  "toc": {
   "base_numbering": 1,
   "nav_menu": {},
   "number_sections": true,
   "sideBar": true,
   "skip_h1_title": false,
   "title_cell": "Table of Contents",
   "title_sidebar": "Contents",
   "toc_cell": false,
   "toc_position": {},
   "toc_section_display": true,
   "toc_window_display": false
  }
 },
 "nbformat": 4,
 "nbformat_minor": 2
}
